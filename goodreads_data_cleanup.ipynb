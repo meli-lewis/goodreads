{
 "cells": [
  {
   "cell_type": "code",
   "execution_count": null,
   "metadata": {
    "collapsed": false
   },
   "outputs": [],
   "source": [
    "import re\n",
    "\n",
    "import numpy as np\n",
    "import pandas as pd"
   ]
  },
  {
   "cell_type": "code",
   "execution_count": null,
   "metadata": {
    "collapsed": true
   },
   "outputs": [],
   "source": [
    "df = pd.read_csv(\"goodreads_library_export.csv\")"
   ]
  },
  {
   "cell_type": "code",
   "execution_count": null,
   "metadata": {
    "collapsed": false
   },
   "outputs": [],
   "source": [
    "df.columns"
   ]
  },
  {
   "cell_type": "code",
   "execution_count": null,
   "metadata": {
    "collapsed": false
   },
   "outputs": [],
   "source": [
    "# I don't care about most of these fields\n",
    "df.drop(['Book Id', 'Author', 'Additional Authors', 'Original Publication Year',\n",
    "         'Bookshelves with positions', 'My Review', 'Spoiler', 'Private Notes',\n",
    "         'Read Count', 'Recommended For', 'Recommended By', 'Owned Copies',\n",
    "         'Original Purchase Date', 'Original Purchase Location', 'Condi"
   ]
  },
  {
   "cell_type": "code",
   "execution_count": null,
   "metadata": {
    "collapsed": false,
    "scrolled": true
   },
   "outputs": [],
   "source": [
    "# check it out: are these categorized helpfully?\n",
    "# are any fields missing more data than expected?\n",
    "df.info()"
   ]
  },
  {
   "cell_type": "code",
   "execution_count": null,
   "metadata": {
    "collapsed": false
   },
   "outputs": [],
   "source": [
    "# Goodreads outputs ISBNs as a formula in anticipation\n",
    "# of being used with Excel. This converts it to a string.\n",
    "df['ISBN'] = df['ISBN'].apply(lambda x: re.sub(r\"[=|\\\"]\", \"\", x))\n",
    "df['ISBN13'] = df['ISBN13'].apply(lambda x: re.sub(r\"[=|\\\"]\", \"\", x))"
   ]
  },
  {
   "cell_type": "code",
   "execution_count": null,
   "metadata": {
    "collapsed": false
   },
   "outputs": [],
   "source": [
    "# Format Date Added as pandas datetime,\n",
    "# so it is easy to convert to other timestamp formats\n",
    "df['Date Added'] = pd.to_datetime(df['Date Added'], format='%Y/%m/%d')\n",
    "df['Date Read'] = pd.to_datetime(df['Date Read'], format='%Y/%m/%d')\n",
    "\n",
    "# commented out because I dropped this column\n",
    "# df['Original Purchase Date'] = pd.to_datetime(df['Original Purchase Date'] , format = '%Y/%m/%d')"
   ]
  },
  {
   "cell_type": "code",
   "execution_count": null,
   "metadata": {
    "collapsed": false
   },
   "outputs": [],
   "source": [
    "\"\"\"If you've yet to rate a book, its value is recorded by Goodreads as 0;\n",
    "however, that's not strictly true! Here I use NumPy to convert a 0 rating\n",
    "to something more akin to a missing value.\"\"\"\n",
    "\n",
    "df['My Rating'] = df['My Rating'].replace(0, np.nan)"
   ]
  },
  {
   "cell_type": "code",
   "execution_count": null,
   "metadata": {
    "collapsed": true
   },
   "outputs": [],
   "source": [
    "def classifier(bookshelf):\n",
    "    if \"non-fiction\" in str(bookshelf):\n",
    "        return \"non-fiction\"\n",
    "    elif \"fiction\" in str(bookshelf):\n",
    "        return \"fiction\"\n",
    "    else:\n",
    "        return \"undefined\""
   ]
  },
  {
   "cell_type": "code",
   "execution_count": null,
   "metadata": {
    "collapsed": false
   },
   "outputs": [],
   "source": [
    "df['classification'] = df['Bookshelves'].apply(lambda x: classifier(x))"
   ]
  },
  {
   "cell_type": "code",
   "execution_count": null,
   "metadata": {
    "collapsed": true
   },
   "outputs": [],
   "source": [
    "df.to_csv('full_table.csv')"
   ]
  },
  {
   "cell_type": "code",
   "execution_count": null,
   "metadata": {
    "collapsed": true
   },
   "outputs": [],
   "source": [
    "# make a new dataframe with just the ISBN and Bookshelves data\n",
    "df2 = df[['ISBN13', 'Bookshelves']]"
   ]
  },
  {
   "cell_type": "code",
   "execution_count": null,
   "metadata": {
    "collapsed": false,
    "scrolled": true
   },
   "outputs": [],
   "source": [
    "\"\"\"\n",
    "So, this looks like a pile of garbage because it's\n",
    "transforming a field with a list of \"bookshelves\", aka\n",
    "tags, into their own entries per field. I'm gonna be\n",
    "a bad person for now and not document yet why I do this.\n",
    "\"\"\"\n",
    "df3 = df2['Bookshelves'].str.split(',').apply(pd.Series, 1).stack()\n",
    "df3.index = df3.index.droplevel(-1)\n",
    "df3.name = 'shelves'\n",
    "df2.drop('Bookshelves', axis=1, inplace=True)\n",
    "df4 = df2.join(df3)"
   ]
  },
  {
   "cell_type": "code",
   "execution_count": null,
   "metadata": {
    "collapsed": true
   },
   "outputs": [],
   "source": [
    "df4.to_csv('bookshelves.csv')"
   ]
  }
 ],
 "metadata": {
  "kernelspec": {
   "display_name": "IPython (Python 3)",
   "language": "python",
   "name": "python3"
  },
  "language_info": {
   "codemirror_mode": {
    "name": "ipython",
    "version": 3
   },
   "file_extension": ".py",
   "mimetype": "text/x-python",
   "name": "python",
   "nbconvert_exporter": "python",
   "pygments_lexer": "ipython3",
   "version": "3.5.0"
  }
 },
 "nbformat": 4,
 "nbformat_minor": 0
}
